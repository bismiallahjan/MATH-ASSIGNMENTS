{
 "cells": [
  {
   "cell_type": "code",
   "execution_count": 3,
   "metadata": {},
   "outputs": [
    {
     "name": "stdout",
     "output_type": "stream",
     "text": [
      "[  5   5   0  -3 -10]\n"
     ]
    }
   ],
   "source": [
    "import numpy as np\n",
    "v1=np.array([1,2,3,4,5])\n",
    "v2=np.array([6,7,3,1,-5])\n",
    "# v3=np.array([15,23,3,4,5])\n",
    "v3=v2-v1\n",
    "print(v3)"
   ]
  },
  {
   "cell_type": "code",
   "execution_count": 9,
   "metadata": {},
   "outputs": [
    {
     "name": "stdout",
     "output_type": "stream",
     "text": [
      "[[-0.44608456 -1.32280017]\n",
      " [ 0.88971177 -0.89118678]\n",
      " [ 0.86467729  1.32163398]\n",
      " [-1.95563557  0.67759093]\n",
      " [ 0.10406958  0.9211154 ]]\n",
      "************************************************\n",
      "[[-0.44608456  0.88971177  0.86467729 -1.95563557  0.10406958]\n",
      " [-1.32280017 -0.89118678  1.32163398  0.67759093  0.9211154 ]]\n",
      "*******************************************\n",
      "[[-0.44608456 -1.32280017]\n",
      " [ 0.88971177 -0.89118678]\n",
      " [ 0.86467729  1.32163398]\n",
      " [-1.95563557  0.67759093]\n",
      " [ 0.10406958  0.9211154 ]]\n"
     ]
    }
   ],
   "source": [
    "import numpy as np\n",
    "v1=np.random.randn(2,5)\n",
    "vtranspose=v1.T\n",
    "print(vtranspose)\n",
    "print(\"************************************************\")\n",
    "print(v1)\n",
    "print(\"*******************************************\")\n",
    "print(np.transpose(v1))"
   ]
  },
  {
   "cell_type": "code",
   "execution_count": 24,
   "metadata": {},
   "outputs": [
    {
     "name": "stdout",
     "output_type": "stream",
     "text": [
      " دا دي د عیینت مترکس\n",
      "[[1. 0. 0. 0. 0. 0.]\n",
      " [0. 1. 0. 0. 0. 0.]\n",
      " [0. 0. 1. 0. 0. 0.]\n",
      " [0. 0. 0. 1. 0. 0.]\n",
      " [0. 0. 0. 0. 1. 0.]\n",
      " [0. 0. 0. 0. 0. 1.]]\n",
      "[[0. 0. 0. 0.]\n",
      " [0. 0. 0. 0.]\n",
      " [0. 0. 0. 0.]\n",
      " [0. 0. 0. 0.]\n",
      " [0. 0. 0. 0.]\n",
      " [0. 0. 0. 0.]]\n",
      "*******************\n",
      " ones vector \n",
      "*******************\n",
      "[[1. 1. 1. 1.]\n",
      " [1. 1. 1. 1.]\n",
      " [1. 1. 1. 1.]\n",
      " [1. 1. 1. 1.]]\n"
     ]
    }
   ],
   "source": [
    "#  types of matrics\n",
    "import numpy as  np\n",
    "# 1 eye matrics\n",
    "\n",
    "# ««««««««««««««««««««««\n",
    "# څومره خوند کوي چي دا سپیڅلي او پاکه پښتو په یو پروګرامینګ ژبه کي لیکم \n",
    "# ««««««««««««««««««««««\n",
    "print(\" دا دي د عیینت مترکس\")\n",
    "v1=np.eye(6,6)\n",
    "print(v1)\n",
    "#  this is the zeros vectors\n",
    "print(\"*******************\")\n",
    "print(\" zeros vector \")\n",
    "print(\"*******************\")\n",
    "v2=np.zeros([6,4])\n",
    "print(v2)\n",
    "# ones vectors\n",
    "print(\"*******************\")\n",
    "print(\" ones vector \")\n",
    "print(\"*******************\")\n",
    "\n",
    "v3=np.ones([4,4])\n",
    "print(v3)\n",
    "\n"
   ]
  }
 ],
 "metadata": {
  "kernelspec": {
   "display_name": "Python 3",
   "language": "python",
   "name": "python3"
  },
  "language_info": {
   "codemirror_mode": {
    "name": "ipython",
    "version": 3
   },
   "file_extension": ".py",
   "mimetype": "text/x-python",
   "name": "python",
   "nbconvert_exporter": "python",
   "pygments_lexer": "ipython3",
   "version": "3.11.1"
  },
  "orig_nbformat": 4,
  "vscode": {
   "interpreter": {
    "hash": "5238573367df39f7286bb46f9ff5f08f63a01a80960060ce41e3c79b190280fa"
   }
  }
 },
 "nbformat": 4,
 "nbformat_minor": 2
}
