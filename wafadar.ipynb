{
 "cells": [
  {
   "cell_type": "code",
   "execution_count": 3,
   "metadata": {},
   "outputs": [
    {
     "ename": "",
     "evalue": "",
     "output_type": "error",
     "traceback": [
      "\u001b[1;31mThe Kernel crashed while executing code in the the current cell or a previous cell. Please review the code in the cell(s) to identify a possible cause of the failure. Click <a href='https://aka.ms/vscodeJupyterKernelCrash'>here</a> for more info. View Jupyter <a href='command:jupyter.viewOutput'>log</a> for further details."
     ]
    }
   ],
   "source": [
    "# Python program to demonstrate\n",
    "# circle drawing\n",
    "\n",
    "\n",
    "import turtle\n",
    "\t\n",
    "# Initializing the turtle\n",
    "t = turtle.Turtle()\n",
    "\n",
    "\n",
    "r = 50\n",
    "t.circle(r)\n"
   ]
  },
  {
   "cell_type": "code",
   "execution_count": 2,
   "metadata": {},
   "outputs": [
    {
     "ename": "Terminator",
     "evalue": "",
     "output_type": "error",
     "traceback": [
      "\u001b[1;31m---------------------------------------------------------------------------\u001b[0m",
      "\u001b[1;31mTerminator\u001b[0m                                Traceback (most recent call last)",
      "Cell \u001b[1;32mIn[2], line 15\u001b[0m\n\u001b[0;32m     13\u001b[0m \u001b[39m# Loop for printing concentric circles\u001b[39;00m\n\u001b[0;32m     14\u001b[0m \u001b[39mfor\u001b[39;00m i \u001b[39min\u001b[39;00m \u001b[39mrange\u001b[39m(\u001b[39m50\u001b[39m):\n\u001b[1;32m---> 15\u001b[0m \tt\u001b[39m.\u001b[39;49mcircle(r \u001b[39m*\u001b[39;49m i)\n\u001b[0;32m     16\u001b[0m \tt\u001b[39m.\u001b[39mup()\n\u001b[0;32m     17\u001b[0m \tt\u001b[39m.\u001b[39msety((r \u001b[39m*\u001b[39m i)\u001b[39m*\u001b[39m(\u001b[39m-\u001b[39m\u001b[39m1\u001b[39m))\n",
      "File \u001b[1;32mc:\\Program Files\\Python311\\Lib\\turtle.py:1993\u001b[0m, in \u001b[0;36mTNavigator.circle\u001b[1;34m(self, radius, extent, steps)\u001b[0m\n\u001b[0;32m   1991\u001b[0m     \u001b[39mself\u001b[39m\u001b[39m.\u001b[39mspeed(speed)\n\u001b[0;32m   1992\u001b[0m     \u001b[39mself\u001b[39m\u001b[39m.\u001b[39m_go(l)\n\u001b[1;32m-> 1993\u001b[0m     \u001b[39mself\u001b[39;49m\u001b[39m.\u001b[39;49mspeed(\u001b[39m0\u001b[39;49m)\n\u001b[0;32m   1994\u001b[0m     \u001b[39mself\u001b[39m\u001b[39m.\u001b[39m_rotate(w)\n\u001b[0;32m   1995\u001b[0m \u001b[39mself\u001b[39m\u001b[39m.\u001b[39m_rotate(\u001b[39m-\u001b[39mw2)\n",
      "File \u001b[1;32mc:\\Program Files\\Python311\\Lib\\turtle.py:2175\u001b[0m, in \u001b[0;36mTPen.speed\u001b[1;34m(self, speed)\u001b[0m\n\u001b[0;32m   2173\u001b[0m \u001b[39melse\u001b[39;00m:\n\u001b[0;32m   2174\u001b[0m     speed \u001b[39m=\u001b[39m \u001b[39m0\u001b[39m\n\u001b[1;32m-> 2175\u001b[0m \u001b[39mself\u001b[39;49m\u001b[39m.\u001b[39;49mpen(speed\u001b[39m=\u001b[39;49mspeed)\n",
      "File \u001b[1;32mc:\\Program Files\\Python311\\Lib\\turtle.py:2460\u001b[0m, in \u001b[0;36mTPen.pen\u001b[1;34m(self, pen, **pendict)\u001b[0m\n\u001b[0;32m   2457\u001b[0m     sa, ca \u001b[39m=\u001b[39m math\u001b[39m.\u001b[39msin(\u001b[39mself\u001b[39m\u001b[39m.\u001b[39m_tilt), math\u001b[39m.\u001b[39mcos(\u001b[39mself\u001b[39m\u001b[39m.\u001b[39m_tilt)\n\u001b[0;32m   2458\u001b[0m     \u001b[39mself\u001b[39m\u001b[39m.\u001b[39m_shapetrafo \u001b[39m=\u001b[39m ( scx\u001b[39m*\u001b[39mca, scy\u001b[39m*\u001b[39m(shf\u001b[39m*\u001b[39mca \u001b[39m+\u001b[39m sa),\n\u001b[0;32m   2459\u001b[0m                         \u001b[39m-\u001b[39mscx\u001b[39m*\u001b[39msa, scy\u001b[39m*\u001b[39m(ca \u001b[39m-\u001b[39m shf\u001b[39m*\u001b[39msa))\n\u001b[1;32m-> 2460\u001b[0m \u001b[39mself\u001b[39;49m\u001b[39m.\u001b[39;49m_update()\n",
      "File \u001b[1;32mc:\\Program Files\\Python311\\Lib\\turtle.py:2661\u001b[0m, in \u001b[0;36mRawTurtle._update\u001b[1;34m(self)\u001b[0m\n\u001b[0;32m   2659\u001b[0m     \u001b[39mreturn\u001b[39;00m\n\u001b[0;32m   2660\u001b[0m \u001b[39melif\u001b[39;00m screen\u001b[39m.\u001b[39m_tracing \u001b[39m==\u001b[39m \u001b[39m1\u001b[39m:\n\u001b[1;32m-> 2661\u001b[0m     \u001b[39mself\u001b[39;49m\u001b[39m.\u001b[39;49m_update_data()\n\u001b[0;32m   2662\u001b[0m     \u001b[39mself\u001b[39m\u001b[39m.\u001b[39m_drawturtle()\n\u001b[0;32m   2663\u001b[0m     screen\u001b[39m.\u001b[39m_update()                  \u001b[39m# TurtleScreenBase\u001b[39;00m\n",
      "File \u001b[1;32mc:\\Program Files\\Python311\\Lib\\turtle.py:2647\u001b[0m, in \u001b[0;36mRawTurtle._update_data\u001b[1;34m(self)\u001b[0m\n\u001b[0;32m   2646\u001b[0m \u001b[39mdef\u001b[39;00m \u001b[39m_update_data\u001b[39m(\u001b[39mself\u001b[39m):\n\u001b[1;32m-> 2647\u001b[0m     \u001b[39mself\u001b[39;49m\u001b[39m.\u001b[39;49mscreen\u001b[39m.\u001b[39;49m_incrementudc()\n\u001b[0;32m   2648\u001b[0m     \u001b[39mif\u001b[39;00m \u001b[39mself\u001b[39m\u001b[39m.\u001b[39mscreen\u001b[39m.\u001b[39m_updatecounter \u001b[39m!=\u001b[39m \u001b[39m0\u001b[39m:\n\u001b[0;32m   2649\u001b[0m         \u001b[39mreturn\u001b[39;00m\n",
      "File \u001b[1;32mc:\\Program Files\\Python311\\Lib\\turtle.py:1293\u001b[0m, in \u001b[0;36mTurtleScreen._incrementudc\u001b[1;34m(self)\u001b[0m\n\u001b[0;32m   1291\u001b[0m \u001b[39mif\u001b[39;00m \u001b[39mnot\u001b[39;00m TurtleScreen\u001b[39m.\u001b[39m_RUNNING:\n\u001b[0;32m   1292\u001b[0m     TurtleScreen\u001b[39m.\u001b[39m_RUNNING \u001b[39m=\u001b[39m \u001b[39mTrue\u001b[39;00m\n\u001b[1;32m-> 1293\u001b[0m     \u001b[39mraise\u001b[39;00m Terminator\n\u001b[0;32m   1294\u001b[0m \u001b[39mif\u001b[39;00m \u001b[39mself\u001b[39m\u001b[39m.\u001b[39m_tracing \u001b[39m>\u001b[39m \u001b[39m0\u001b[39m:\n\u001b[0;32m   1295\u001b[0m     \u001b[39mself\u001b[39m\u001b[39m.\u001b[39m_updatecounter \u001b[39m+\u001b[39m\u001b[39m=\u001b[39m \u001b[39m1\u001b[39m\n",
      "\u001b[1;31mTerminator\u001b[0m: "
     ]
    }
   ],
   "source": [
    "# Python program to demonstrate\n",
    "# concentric circle drawing\n",
    "\n",
    "\n",
    "import turtle\n",
    "\t\n",
    "\t\n",
    "t = turtle.Turtle()\n",
    "\n",
    "# radius of the circle\n",
    "r = 10\n",
    "\n",
    "# Loop for printing concentric circles\n",
    "for i in range(50):\n",
    "\tt.circle(r * i)\n",
    "\tt.up()\n",
    "\tt.sety((r * i)*(-1))\n",
    "\tt.down()\n"
   ]
  },
  {
   "cell_type": "code",
   "execution_count": 2,
   "metadata": {},
   "outputs": [
    {
     "name": "stdout",
     "output_type": "stream",
     "text": [
      "84\n"
     ]
    }
   ],
   "source": [
    "#  example of dot product\n",
    "import numpy as np\n",
    "import matplotlib.pyplot as plt\n",
    "\n",
    "v1=np.array([2,3,4])\n",
    "v2=np.array([14,12,5])\n",
    "v3=np.dot(v1,v2)\n",
    "print(v3)"
   ]
  },
  {
   "cell_type": "code",
   "execution_count": 3,
   "metadata": {},
   "outputs": [
    {
     "name": "stdout",
     "output_type": "stream",
     "text": [
      "-10\n"
     ]
    }
   ],
   "source": [
    "#  exmaple of asciativo law\n",
    "# practicse of dot product\n",
    "#  Example 1\n",
    "v1=np.array([-4,-2])\n",
    "v2=np.array([1,3])\n",
    "v3=np.dot(v1,v2)\n",
    "print(v3)"
   ]
  },
  {
   "cell_type": "code",
   "execution_count": 11,
   "metadata": {},
   "outputs": [
    {
     "name": "stdout",
     "output_type": "stream",
     "text": [
      "-5\n"
     ]
    }
   ],
   "source": [
    "#  exmaple of asciativo law\n",
    "# practicse of dot product\n",
    "#  Example 2\n",
    "v1=np.array([2,3])\n",
    "v2=np.array([2,-3])\n",
    "v3=np.dot(v1,v2)\n",
    "print(v3)"
   ]
  },
  {
   "cell_type": "code",
   "execution_count": 5,
   "metadata": {},
   "outputs": [
    {
     "name": "stdout",
     "output_type": "stream",
     "text": [
      "-1\n"
     ]
    }
   ],
   "source": [
    "#  exmaple of asciativo law\n",
    "# practicse of dot product\n",
    "#  Example 3\n",
    "v1=np.array([7,-2])\n",
    "v2=np.array([-7,-24])\n",
    "v3=np.dot(v1,v2)\n",
    "print(v3)"
   ]
  },
  {
   "cell_type": "code",
   "execution_count": 6,
   "metadata": {},
   "outputs": [
    {
     "name": "stdout",
     "output_type": "stream",
     "text": [
      "0.0\n"
     ]
    }
   ],
   "source": [
    "#  exmaple of asciativo law\n",
    "# practicse of dot product\n",
    "#  Example 4\n",
    "v1=np.array([3/2,4/5])\n",
    "v2=np.array([2/3,-5/4])\n",
    "v3=np.dot(v1,v2)\n",
    "print(v3)"
   ]
  },
  {
   "cell_type": "code",
   "execution_count": 7,
   "metadata": {},
   "outputs": [
    {
     "name": "stdout",
     "output_type": "stream",
     "text": [
      "-1\n"
     ]
    }
   ],
   "source": [
    "#  exmaple of asciativo law\n",
    "# practicse of dot product\n",
    "#  Example 5\n",
    "v1=np.array([0,1,2])\n",
    "v2=np.array([-2,-1,0])\n",
    "v3=np.dot(v1,v2)\n",
    "print(v3)"
   ]
  },
  {
   "cell_type": "code",
   "execution_count": 8,
   "metadata": {},
   "outputs": [
    {
     "name": "stdout",
     "output_type": "stream",
     "text": [
      "26\n"
     ]
    }
   ],
   "source": [
    "#  exmaple of asciativo law\n",
    "# practicse of dot product\n",
    "#  Example 6\n",
    "v1=np.array([4,1,3])\n",
    "v2=np.array([4,1,3])\n",
    "v3=np.dot(v1,v2)\n",
    "print(v3)"
   ]
  },
  {
   "cell_type": "code",
   "execution_count": 9,
   "metadata": {},
   "outputs": [
    {
     "name": "stdout",
     "output_type": "stream",
     "text": [
      "0.5\n"
     ]
    }
   ],
   "source": [
    "#  exmaple of asciativo law\n",
    "# practicse of dot product\n",
    "#  Example 7\n",
    "v1=np.array([7/2,-3,6])\n",
    "v2=np.array([10,3.5,-4])\n",
    "v3=np.dot(v1,v2)\n",
    "print(v3)"
   ]
  },
  {
   "cell_type": "code",
   "execution_count": 10,
   "metadata": {},
   "outputs": [
    {
     "name": "stdout",
     "output_type": "stream",
     "text": [
      "93\n"
     ]
    }
   ],
   "source": [
    "#  exmaple of asciativo law\n",
    "# practicse of dot product\n",
    "#  Example 8\n",
    "v1=np.array([81,3,9])\n",
    "v2=np.array([1,1,1])\n",
    "v3=np.dot(v1,v2)\n",
    "print(v3)"
   ]
  },
  {
   "attachments": {},
   "cell_type": "markdown",
   "metadata": {},
   "source": [
    "<!-- Vector multiplication\n",
    "1. tita < 90 victor > 0. The cosine of an acute angle is always\n",
    "positive, so the dot product will be positive.\n",
    "2. tita > 90 victore  < 0. The cosine of an obtuse angle is\n",
    "always negative, so the dot product will be negative.\n",
    "3. tita = victor = 0. The cosine of a right angle is zero, -->\n",
    "\n",
    "\n",
    "<!-- Linear weighted combination simply means scalar-vector multiplication\n",
    "and addition: Take some set of vectors, multiply each\n",
    "vector by any scalar, and add them to produce a single vector. -->"
   ]
  },
  {
   "cell_type": "code",
   "execution_count": 12,
   "metadata": {},
   "outputs": [
    {
     "name": "stdout",
     "output_type": "stream",
     "text": [
      "[ -7  -4 -13]\n"
     ]
    }
   ],
   "source": [
    "import numpy as np\n",
    "l1=1\n",
    "l2=2\n",
    "l3=-3\n",
    "v1=np.array([4,5,1])\n",
    "v2=np.array([-4,0,-4])\n",
    "v3=np.array([1,3,2])\n",
    "v4=l1*v1+l2*v2+l3*v3\n",
    "print(v4)"
   ]
  }
 ],
 "metadata": {
  "kernelspec": {
   "display_name": "Python 3",
   "language": "python",
   "name": "python3"
  },
  "language_info": {
   "codemirror_mode": {
    "name": "ipython",
    "version": 3
   },
   "file_extension": ".py",
   "mimetype": "text/x-python",
   "name": "python",
   "nbconvert_exporter": "python",
   "pygments_lexer": "ipython3",
   "version": "3.11.1"
  },
  "orig_nbformat": 4,
  "vscode": {
   "interpreter": {
    "hash": "5238573367df39f7286bb46f9ff5f08f63a01a80960060ce41e3c79b190280fa"
   }
  }
 },
 "nbformat": 4,
 "nbformat_minor": 2
}
