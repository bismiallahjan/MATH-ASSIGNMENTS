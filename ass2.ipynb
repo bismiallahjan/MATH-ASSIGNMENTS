{
 "cells": [
  {
   "cell_type": "code",
   "execution_count": 4,
   "metadata": {},
   "outputs": [
    {
     "name": "stdout",
     "output_type": "stream",
     "text": [
      "[[ 4  6  8 10 12]\n",
      " [ 6  9 12 15 18]\n",
      " [ 8 12 16 20 24]\n",
      " [10 15 20 25 30]\n",
      " [12 18 24 30 36]]\n",
      "90\n"
     ]
    }
   ],
   "source": [
    "# outer product and inner product\n",
    "\n",
    "import numpy as np\n",
    "v1=np.array([2,3,4,5,6])\n",
    "v2=np.array([2,3,4,5,6])\n",
    "v3=np.outer(v1,v2)\n",
    "print(v3)\n",
    "v4=np.dot(v1,v2)\n",
    "\n",
    "print(v4)"
   ]
  },
  {
   "cell_type": "code",
   "execution_count": 6,
   "metadata": {},
   "outputs": [
    {
     "name": "stdout",
     "output_type": "stream",
     "text": [
      "[ 4 10 18]\n"
     ]
    }
   ],
   "source": [
    "#  hamdard product sign is circyle in middle dot ⚪\n",
    "#  this should have same dimentions\n",
    "import numpy as np\n",
    "v1=np.array([1,2,3])\n",
    "v2=np.array([4,5,6])\n",
    "v3=v1*v2\n",
    "print(v3)\n"
   ]
  },
  {
   "cell_type": "code",
   "execution_count": null,
   "metadata": {},
   "outputs": [],
   "source": [
    "#  this is the unit vector first we should find norm\n",
    "import numpy as np\n",
    "v1=np.array([1,2,3,4,5])\n",
    "vmag=np.linalg.norm(v1)\n",
    "print(vmag)"
   ]
  }
 ],
 "metadata": {
  "kernelspec": {
   "display_name": "Python 3",
   "language": "python",
   "name": "python3"
  },
  "language_info": {
   "codemirror_mode": {
    "name": "ipython",
    "version": 3
   },
   "file_extension": ".py",
   "mimetype": "text/x-python",
   "name": "python",
   "nbconvert_exporter": "python",
   "pygments_lexer": "ipython3",
   "version": "3.11.1"
  },
  "orig_nbformat": 4,
  "vscode": {
   "interpreter": {
    "hash": "5238573367df39f7286bb46f9ff5f08f63a01a80960060ce41e3c79b190280fa"
   }
  }
 },
 "nbformat": 4,
 "nbformat_minor": 2
}
