{
 "cells": [
  {
   "attachments": {},
   "cell_type": "markdown",
   "metadata": {},
   "source": [
    "from s ci p y . l i n a l g import hankel , t o e p l i t z\n",
    "2 t = [ 1 , 2 , 3 , 4 ]\n",
    "3 T = t o e p l i t z ( t )\n",
    "4 H = h an kel ( t , r =[ 2 , 3 , 4 , 1] )\n"
   ]
  },
  {
   "cell_type": "code",
   "execution_count": 11,
   "metadata": {},
   "outputs": [],
   "source": [
    "# # from  scipy.linalg import hankel,toeplitz\n",
    "# import numpy as np\n",
    "# t = [ 1 , 2 , 3 , 4 ]\n",
    "# T=toeplitz(t)\n",
    "# H = hankel( t , r =[ 2 , 3 , 4 , 1] )\n",
    "\n",
    "# print(H)\n",
    "\n"
   ]
  },
  {
   "cell_type": "code",
   "execution_count": 12,
   "metadata": {},
   "outputs": [
    {
     "name": "stdout",
     "output_type": "stream",
     "text": [
      "[2 3 3 4 5 6]\n",
      "[[2]\n",
      " [3]\n",
      " [5]\n",
      " [6]]\n"
     ]
    }
   ],
   "source": [
    "import numpy as np\n",
    "v1=np.array([2,3,3,4,5,6])\n",
    "v2=np.array([[2],[3],[5],[6]])\n",
    "print (v1)\n",
    "print (v2)"
   ]
  },
  {
   "cell_type": "code",
   "execution_count": 13,
   "metadata": {},
   "outputs": [
    {
     "name": "stdout",
     "output_type": "stream",
     "text": [
      "[1 2 3 4]\n"
     ]
    }
   ],
   "source": [
    "#  Transposing vectors\n",
    "v1=np.array([1,2,3,4])\n",
    "v2=v1.T\n",
    "v3=v1.transpose\n",
    "\n",
    "print(v3)"
   ]
  }
 ],
 "metadata": {
  "kernelspec": {
   "display_name": "Python 3",
   "language": "python",
   "name": "python3"
  },
  "language_info": {
   "codemirror_mode": {
    "name": "ipython",
    "version": 3
   },
   "file_extension": ".py",
   "mimetype": "text/x-python",
   "name": "python",
   "nbconvert_exporter": "python",
   "pygments_lexer": "ipython3",
   "version": "3.11.1"
  },
  "orig_nbformat": 4,
  "vscode": {
   "interpreter": {
    "hash": "5238573367df39f7286bb46f9ff5f08f63a01a80960060ce41e3c79b190280fa"
   }
  }
 },
 "nbformat": 4,
 "nbformat_minor": 2
}
